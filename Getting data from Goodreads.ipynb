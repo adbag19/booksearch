{
 "cells": [
  {
   "cell_type": "code",
   "execution_count": 29,
   "metadata": {},
   "outputs": [],
   "source": [
    "import requests\n",
    "import xmltodict"
   ]
  },
  {
   "cell_type": "code",
   "execution_count": 30,
   "metadata": {},
   "outputs": [],
   "source": [
    "def create_book(title, author, isbn):\n",
    "    return { 'title': title, 'author': author, 'isbn': isbn}\n",
    "\n",
    "my_books = [create_book('Test Driven Development: By Example', 'Kent Beck', '0321146530'), \n",
    "         create_book('Bloodchild and Other Stories', 'Octavia E. Butler', '1583226982'), \n",
    "         create_book('The Machinery of Life', 'David S. Goodsell', '0387849246'), \n",
    "           create_book('Ulysses', 'James Joyce', '1494405490')]"
   ]
  },
  {
   "cell_type": "code",
   "execution_count": 31,
   "metadata": {},
   "outputs": [],
   "source": [
    "key_goodreads = 'SEX1X3AqNPEW9w5U8AfUA'\n",
    "base_url_goodreads = 'https://www.goodreads.com/search.xml?key=' + key_goodreads "
   ]
  },
  {
   "cell_type": "code",
   "execution_count": 32,
   "metadata": {},
   "outputs": [],
   "source": [
    "def request_goodreads_books_by_title(title):\n",
    "    url = base_url_goodreads + '&q=' + encode_white_spaces(title) + '&search[title]'\n",
    "    log_url('goodreads', url)\n",
    "    return requests.get(url)"
   ]
  },
  {
   "cell_type": "code",
   "execution_count": 33,
   "metadata": {},
   "outputs": [],
   "source": [
    "def encode_white_spaces(string):\n",
    "    return string.replace(' ', '%20')"
   ]
  },
  {
   "cell_type": "code",
   "execution_count": 34,
   "metadata": {},
   "outputs": [
    {
     "name": "stdout",
     "output_type": "stream",
     "text": [
      "https://www.goodreads.com/book/title.xml?author=Clive%20Cussler&key=SEX1X3AqNPEW9w5U8AfUA&title=Sahara\n"
     ]
    }
   ],
   "source": [
    "#Author and title variables\n",
    "    author=\"Clive Cussler\"\n",
    "    title=\"Sahara\"\n",
    "    \n",
    "    # you need to fill white space in with %20\n",
    "    a = encode_white_spaces(author)\n",
    "    t = encode_white_spaces(title)\n",
    "    \n",
    "    url = 'https://www.goodreads.com/book/title.xml?author=%s&key=%s&title=%s' % (a, key_goodreads, t)\n",
    "    \n",
    "    print (url)"
   ]
  },
  {
   "cell_type": "markdown",
   "metadata": {},
   "source": [
    "Now we have a URL!  If you open this up in a browser, you can see elements of the json presented to you."
   ]
  },
  {
   "cell_type": "markdown",
   "metadata": {},
   "source": [
    "You can use \"requests\" in conjunction with xmltidict to parse. "
   ]
  },
  {
   "cell_type": "code",
   "execution_count": 44,
   "metadata": {},
   "outputs": [],
   "source": [
    "req = requests.get(url)\n",
    "\n",
    "r = xmltodict.parse(req.content)['GoodreadsResponse']['book']\n"
   ]
  },
  {
   "cell_type": "markdown",
   "metadata": {},
   "source": [
    "You can access the data as is in json format by referring to it's elements in the hierarchy.  So to print out the asin number"
   ]
  },
  {
   "cell_type": "code",
   "execution_count": 45,
   "metadata": {},
   "outputs": [
    {
     "name": "stdout",
     "output_type": "stream",
     "text": [
      "None\n"
     ]
    }
   ],
   "source": [
    "print(r['asin'])"
   ]
  },
  {
   "cell_type": "markdown",
   "metadata": {},
   "source": [
    "You can also add the json data to a dictionary, as shown below, and access elements by referring to them by name.  Here is a small subset of the API data added to a dictionary."
   ]
  },
  {
   "cell_type": "code",
   "execution_count": 46,
   "metadata": {},
   "outputs": [
    {
     "name": "stdout",
     "output_type": "stream",
     "text": [
      "{'isbn': '0671906062', 'isbn13': '9780671906061', 'title': 'Treasure / Dragon / Sahara: Clive Cussler Gift Set (Dirk Pitt, #9, #10, #11)', 'year': None, 'original_publication_year': '1996', 'publisher': None, 'language': 'eng', 'description': None, 'pages': None}\n",
      "\n",
      "0671906062\n"
     ]
    }
   ],
   "source": [
    "goodreads_data_dictionary = {\n",
    "'isbn': r['isbn'],\n",
    "'isbn13' : r['isbn13'],\n",
    "'title': r['title'],\n",
    "'year': r['publication_year'],\n",
    "'original_publication_year': r['work']['original_publication_year']['#text'],\n",
    "'publisher': r['publisher'],\n",
    "'language': r['language_code'],\n",
    "'description': r['description'],\n",
    "'pages': r['num_pages']\n",
    "}\n",
    "\n",
    "#print all\n",
    "print (goodreads_data_dictionary)\n",
    "\n",
    "print()\n",
    "\n",
    "#print specific element\n",
    "print (goodreads_data_dictionary.get(\"isbn\", \"none\"))\n",
    "\n"
   ]
  },
  {
   "cell_type": "markdown",
   "metadata": {},
   "source": [
    "You can crete an object an store dictionary values i it as well.  In the case below, we're creating an object called Book.  Use the \"setAttributes\" function to populate it with dictionary items."
   ]
  },
  {
   "cell_type": "code",
   "execution_count": 47,
   "metadata": {},
   "outputs": [],
   "source": [
    "class BookTemplate:\n",
    "    def __init__(self, isbn=None, title=None, author=None):\n",
    "        self.isbn = isbn\n",
    "        self.title = title\n",
    "        self.author = author\n",
    "\n",
    "    def jsonSerialize(self):\n",
    "        return self.__dict__\n",
    "\n",
    "def setAttributes(obj, dict):\n",
    "    for key, value in dict.items():\n",
    "        setattr(obj, key, value)\n",
    "\n",
    "class AuthorTemplate:\n",
    "    def jsonSerialize(self):\n",
    "        return self.__dict__\n",
    "    "
   ]
  },
  {
   "cell_type": "markdown",
   "metadata": {},
   "source": [
    "You create an instance of the class as shown below, and set the attributes based on the dictionary. \n",
    "Then you can access elements of the data dictionary by access <instance name>.<element>.  \n",
    "\n",
    "In the example below, we access \"book.isbn\" and \"book.title\""
   ]
  },
  {
   "cell_type": "code",
   "execution_count": 49,
   "metadata": {},
   "outputs": [],
   "source": [
    "book = BookTemplate()\n",
    "setAttributes (book, goodreads_data_dictionary)"
   ]
  },
  {
   "cell_type": "code",
   "execution_count": 51,
   "metadata": {},
   "outputs": [
    {
     "name": "stdout",
     "output_type": "stream",
     "text": [
      "0671906062\n",
      "Treasure / Dragon / Sahara: Clive Cussler Gift Set (Dirk Pitt, #9, #10, #11)\n"
     ]
    }
   ],
   "source": [
    "\n",
    "print (book.isbn)\n",
    "print (book.title)"
   ]
  },
  {
   "cell_type": "markdown",
   "metadata": {},
   "source": [
    "Finally, we can handle more complex components of the API.  For example, here is how to parse book shelve information.  \n",
    "\n",
    "First, we must write a couple of functions to help us parse the data."
   ]
  },
  {
   "cell_type": "code",
   "execution_count": 81,
   "metadata": {},
   "outputs": [],
   "source": [
    "def parse_authors(authors):\n",
    "    if type(authors) is list:\n",
    "        return parse_authors_from_list(authors)\n",
    "    return authors['name']\n",
    "\n",
    "def parse_shelves(shelves):\n",
    "    shelves_and_counts = dict()\n",
    "    for shelf in shelves:\n",
    "        name = normalize(shelf['@name'])\n",
    "        if name not in ['to read', 'currently reading']:  # arbitrarily exclude some shelves\n",
    "            shelves_and_counts[name] = shelf['@count']\n",
    "        elif name in shelves_and_counts:\n",
    "            shelves_and_counts[name] = shelves_and_counts[name] + shelf['@count']\n",
    "    return transform_shelves_dict_to_list(shelves_and_counts)\n",
    "\n",
    "\n",
    "def parse_similar_books(similar_books):\n",
    "    books = []\n",
    "    for book in similar_books:\n",
    "        books.append({\n",
    "            'title': book['title'],\n",
    "            'isbn': book['isbn'],\n",
    "            'goodreads_rating': book['average_rating'],\n",
    "            'goodreads_book_img': get_image_url(book['image_url']),\n",
    "            'pages': book['num_pages'],\n",
    "            'goodreads_url': book['link'],\n",
    "            'year': book['publication_year'],\n",
    "            'author': book['authors']['author']['name'],  # TODO: Handle multiple authors\n",
    "        })\n",
    "    return books\n",
    "\n",
    "\n",
    "def transform_shelves_dict_to_list(shelves_and_counts):\n",
    "    shelves_list = []\n",
    "    for k, v in shelves_and_counts.items():\n",
    "        shelves_list.append({'name': k, 'count': v})\n",
    "    return shelves_list\n",
    "\n",
    "\n",
    "def parse_authors_image(authors):\n",
    "    if type(authors) is list:\n",
    "        return parse_authors_image_from_list(authors)\n",
    "    return get_image_url(authors['image_url']['#text'])\n",
    "\n",
    "\n",
    "def get_image_url(url):\n",
    "    search_str = '/nophoto/'\n",
    "    return None if search_str in url else url\n",
    "\n",
    "\n",
    "def normalize(name):\n",
    "    return name.lower().replace('-', ' ').replace('_', ' ')\n",
    "\n",
    "def similar_books(r):\n",
    "    print (r['similar_books']['book'])\n",
    "    \n",
    "    try:\n",
    "        similar_books = parse_similar_books(r['similar_books']['book'])\n",
    "    except KeyError:\n",
    "        similar_books = None\n",
    "    return similar_books"
   ]
  },
  {
   "cell_type": "markdown",
   "metadata": {},
   "source": [
    "Then, we can populate a dictionary consisting of all the fields."
   ]
  },
  {
   "cell_type": "code",
   "execution_count": 82,
   "metadata": {},
   "outputs": [
    {
     "name": "stdout",
     "output_type": "stream",
     "text": [
      "[OrderedDict([('id', '7674'), ('title', 'The Michael Crichton Collection: Airframe / The Lost World / Timeline'), ('title_without_series', 'The Michael Crichton Collection: Airframe / The Lost World / Timeline'), ('link', 'https://www.goodreads.com/book/show/7674.The_Michael_Crichton_Collection'), ('small_image_url', 'https://i.gr-assets.com/images/S/compressed.photo.goodreads.com/books/1320433409l/7674._SX50_.jpg'), ('image_url', 'https://i.gr-assets.com/images/S/compressed.photo.goodreads.com/books/1320433409l/7674._SX98_.jpg'), ('num_pages', '0'), ('work', OrderedDict([('id', '7185280')])), ('isbn', '0739340336'), ('isbn13', '9780739340332'), ('average_rating', '4.40'), ('ratings_count', '201'), ('publication_year', '2006'), ('publication_month', '8'), ('publication_day', '29'), ('authors', OrderedDict([('author', OrderedDict([('id', '5194'), ('name', 'Michael Crichton'), ('link', 'https://www.goodreads.com/author/show/5194.Michael_Crichton')]))]))]), OrderedDict([('id', '2794671'), ('title', 'Tom Clancy: The Sum Of All Fears, Debt Of Honor, Patriot Games'), ('title_without_series', 'Tom Clancy: The Sum Of All Fears, Debt Of Honor, Patriot Games'), ('link', 'https://www.goodreads.com/book/show/2794671-tom-clancy'), ('small_image_url', 'https://s.gr-assets.com/assets/nophoto/book/50x75-a91bf249278a81aabab721ef782c4a74.png'), ('image_url', 'https://s.gr-assets.com/assets/nophoto/book/111x148-bcc042a9c91a29c1d680899eff700a03.png'), ('num_pages', None), ('work', OrderedDict([('id', '5054828')])), ('isbn', '0425156516'), ('isbn13', '9780425156513'), ('average_rating', '4.40'), ('ratings_count', '201'), ('publication_year', None), ('publication_month', None), ('publication_day', None), ('authors', OrderedDict([('author', OrderedDict([('id', '3892'), ('name', 'Tom Clancy'), ('link', 'https://www.goodreads.com/author/show/3892.Tom_Clancy')]))]))]), OrderedDict([('id', '2737203'), ('title', 'The Menacers (Matt Helm, #11)'), ('title_without_series', 'The Menacers'), ('link', 'https://www.goodreads.com/book/show/2737203-the-menacers'), ('small_image_url', 'https://i.gr-assets.com/images/S/compressed.photo.goodreads.com/books/1298775311l/2737203._SY75_.jpg'), ('image_url', 'https://i.gr-assets.com/images/S/compressed.photo.goodreads.com/books/1298775311l/2737203._SY160_.jpg'), ('num_pages', '192'), ('work', OrderedDict([('id', '2762854')])), ('isbn', '0402271726'), ('isbn13', '9780402271727'), ('average_rating', '4.40'), ('ratings_count', '201'), ('publication_year', '1968'), ('publication_month', None), ('publication_day', None), ('authors', OrderedDict([('author', OrderedDict([('id', '114241'), ('name', 'Donald Hamilton'), ('link', 'https://www.goodreads.com/author/show/114241.Donald_Hamilton')]))]))]), OrderedDict([('id', '198738'), ('title', 'Fahrenheit 451; The Illustrated Man; Dandelion Wine; The Golden Apples of the Sun; The Martian Chronicles'), ('title_without_series', 'Fahrenheit 451; The Illustrated Man; Dandelion Wine; The Golden Apples of the Sun; The Martian Chronicles'), ('link', 'https://www.goodreads.com/book/show/198738.Fahrenheit_451_The_Illustrated_Man_Dandelion_Wine_The_Golden_Apples_of_the_Sun_The_Martian_Chronicles'), ('small_image_url', 'https://i.gr-assets.com/images/S/compressed.photo.goodreads.com/books/1346284243l/198738._SY75_.jpg'), ('image_url', 'https://i.gr-assets.com/images/S/compressed.photo.goodreads.com/books/1346284243l/198738._SX98_.jpg'), ('num_pages', None), ('work', OrderedDict([('id', '192250')])), ('isbn', '1852560231'), ('isbn13', '9781852560232'), ('average_rating', '4.40'), ('ratings_count', '201'), ('publication_year', '1987'), ('publication_month', '1'), ('publication_day', '1'), ('authors', OrderedDict([('author', OrderedDict([('id', '1630'), ('name', 'Ray Bradbury'), ('link', 'https://www.goodreads.com/author/show/1630.Ray_Bradbury')]))]))]), OrderedDict([('id', '463145'), ('title', \"Dead Man's Handle (Modesty Blaise #12)\"), ('title_without_series', \"Dead Man's Handle\"), ('link', 'https://www.goodreads.com/book/show/463145.Dead_Man_s_Handle'), ('small_image_url', 'https://i.gr-assets.com/images/S/compressed.photo.goodreads.com/books/1328872205l/463145._SX50_.jpg'), ('image_url', 'https://i.gr-assets.com/images/S/compressed.photo.goodreads.com/books/1328872205l/463145._SX98_.jpg'), ('num_pages', '224'), ('work', OrderedDict([('id', '451576')])), ('isbn', '0285637274'), ('isbn13', '9780285637276'), ('average_rating', '4.40'), ('ratings_count', '201'), ('publication_year', '2005'), ('publication_month', '8'), ('publication_day', '11'), ('authors', OrderedDict([('author', OrderedDict([('id', '13391'), ('name', \"Peter O'Donnell\"), ('link', 'https://www.goodreads.com/author/show/13391.Peter_O_Donnell')]))]))]), OrderedDict([('id', '662931'), ('title', 'The Land God Gave to Cain'), ('title_without_series', 'The Land God Gave to Cain'), ('link', 'https://www.goodreads.com/book/show/662931.The_Land_God_Gave_to_Cain'), ('small_image_url', 'https://i.gr-assets.com/images/S/compressed.photo.goodreads.com/books/1499285301l/662931._SY75_.jpg'), ('image_url', 'https://i.gr-assets.com/images/S/compressed.photo.goodreads.com/books/1499285301l/662931._SX98_.jpg'), ('num_pages', '307'), ('work', OrderedDict([('id', '1401445')])), ('isbn', '0881841447'), ('isbn13', '9780881841442'), ('average_rating', '4.40'), ('ratings_count', '201'), ('publication_year', '1985'), ('publication_month', '12'), ('publication_day', '1'), ('authors', OrderedDict([('author', OrderedDict([('id', '26511'), ('name', 'Hammond Innes'), ('link', 'https://www.goodreads.com/author/show/26511.Hammond_Innes')]))]))]), OrderedDict([('id', '829770'), ('title', 'Kahawa'), ('title_without_series', 'Kahawa'), ('link', 'https://www.goodreads.com/book/show/829770.Kahawa'), ('small_image_url', 'https://i.gr-assets.com/images/S/compressed.photo.goodreads.com/books/1344270219l/829770._SY75_.jpg'), ('image_url', 'https://i.gr-assets.com/images/S/compressed.photo.goodreads.com/books/1344270219l/829770._SX98_.jpg'), ('num_pages', '496'), ('work', OrderedDict([('id', '815446')])), ('isbn', '0446403431'), ('isbn13', '9780446403436'), ('average_rating', '4.40'), ('ratings_count', '201'), ('publication_year', '1996'), ('publication_month', '4'), ('publication_day', '1'), ('authors', OrderedDict([('author', OrderedDict([('id', '30953'), ('name', 'Donald E. Westlake'), ('link', 'https://www.goodreads.com/author/show/30953.Donald_E_Westlake')]))]))]), OrderedDict([('id', '7481639'), ('title', 'The Violent Enemy'), ('title_without_series', 'The Violent Enemy'), ('link', 'https://www.goodreads.com/book/show/7481639-the-violent-enemy'), ('small_image_url', 'https://i.gr-assets.com/images/S/compressed.photo.goodreads.com/books/1330144277l/7481639._SY75_.jpg'), ('image_url', 'https://i.gr-assets.com/images/S/compressed.photo.goodreads.com/books/1330144277l/7481639._SY160_.jpg'), ('num_pages', '148'), ('work', OrderedDict([('id', '9596270')])), ('isbn', '0330307207'), ('isbn13', '9780330307208'), ('average_rating', '4.40'), ('ratings_count', '201'), ('publication_year', '1969'), ('publication_month', None), ('publication_day', None), ('authors', OrderedDict([('author', OrderedDict([('id', '2352206'), ('name', 'Hugh Marlowe'), ('link', 'https://www.goodreads.com/author/show/2352206.Hugh_Marlowe')]))]))]), OrderedDict([('id', '2079458'), ('title', 'The Dark Side of the Island'), ('title_without_series', 'The Dark Side of the Island'), ('link', 'https://www.goodreads.com/book/show/2079458.The_Dark_Side_of_the_Island'), ('small_image_url', 'https://i.gr-assets.com/images/S/compressed.photo.goodreads.com/books/1357680441l/2079458._SY75_.jpg'), ('image_url', 'https://i.gr-assets.com/images/S/compressed.photo.goodreads.com/books/1357680441l/2079458._SY160_.jpg'), ('num_pages', '159'), ('work', OrderedDict([('id', '2084732')])), ('isbn', '0449138267'), ('isbn13', '9780449138267'), ('average_rating', '4.40'), ('ratings_count', '201'), ('publication_year', '1980'), ('publication_month', '6'), ('publication_day', '12'), ('authors', OrderedDict([('author', OrderedDict([('id', '19706'), ('name', 'Jack Higgins'), ('link', 'https://www.goodreads.com/author/show/19706.Jack_Higgins')]))]))]), OrderedDict([('id', '1607799'), ('title', 'An Expensive Place to Die'), ('title_without_series', 'An Expensive Place to Die'), ('link', 'https://www.goodreads.com/book/show/1607799.An_Expensive_Place_to_Die'), ('small_image_url', 'https://i.gr-assets.com/images/S/compressed.photo.goodreads.com/books/1346898582l/1607799._SY75_.jpg'), ('image_url', 'https://i.gr-assets.com/images/S/compressed.photo.goodreads.com/books/1346898582l/1607799._SX98_.jpg'), ('num_pages', '252'), ('work', OrderedDict([('id', '2269345')])), ('isbn', '0425073734'), ('isbn13', '9780425073735'), ('average_rating', '4.40'), ('ratings_count', '201'), ('publication_year', '1967'), ('publication_month', None), ('publication_day', None), ('authors', OrderedDict([('author', OrderedDict([('id', '31234'), ('name', 'Len Deighton'), ('link', 'https://www.goodreads.com/author/show/31234.Len_Deighton')]))]))]), OrderedDict([('id', '28208'), ('title', 'Havoc (Philip Mercer, #7)'), ('title_without_series', 'Havoc'), ('link', 'https://www.goodreads.com/book/show/28208.Havoc'), ('small_image_url', 'https://s.gr-assets.com/assets/nophoto/book/50x75-a91bf249278a81aabab721ef782c4a74.png'), ('image_url', 'https://s.gr-assets.com/assets/nophoto/book/111x148-bcc042a9c91a29c1d680899eff700a03.png'), ('num_pages', None), ('work', OrderedDict([('id', '28784')])), ('isbn', '0525948821'), ('isbn13', '9780525948827'), ('average_rating', '4.40'), ('ratings_count', '201'), ('publication_year', '2006'), ('publication_month', '10'), ('publication_day', '5'), ('authors', OrderedDict([('author', OrderedDict([('id', '2828239'), ('name', 'Jack Du Brul'), ('link', 'https://www.goodreads.com/author/show/2828239.Jack_Du_Brul')]))]))]), OrderedDict([('id', '1188784'), ('title', 'Toxin / Chromosome 6'), ('title_without_series', 'Toxin / Chromosome 6'), ('link', 'https://www.goodreads.com/book/show/1188784.Toxin_Chromosome_6'), ('small_image_url', 'https://i.gr-assets.com/images/S/compressed.photo.goodreads.com/books/1277503651l/1188784._SX50_.jpg'), ('image_url', 'https://i.gr-assets.com/images/S/compressed.photo.goodreads.com/books/1277503651l/1188784._SX98_.jpg'), ('num_pages', None), ('work', OrderedDict([('id', '1176782')])), ('isbn', '0330432648'), ('isbn13', '9780330432641'), ('average_rating', '4.40'), ('ratings_count', '201'), ('publication_year', None), ('publication_month', None), ('publication_day', None), ('authors', OrderedDict([('author', OrderedDict([('id', '19697'), ('name', 'Robin Cook'), ('link', 'https://www.goodreads.com/author/show/19697.Robin_Cook')]))]))])]\n"
     ]
    }
   ],
   "source": [
    "\n",
    "goodreads_data_dictionary = {\n",
    "    \n",
    "'isbn': r['isbn'],\n",
    "'isbn13' : r['isbn13'],\n",
    "'title': r['title'],\n",
    "'year': r['publication_year'],\n",
    "'original_publication_year': r['work']['original_publication_year']['#text'],\n",
    "'publisher': r['publisher'],\n",
    "'language': r['language_code'],\n",
    "'description': r['description'],\n",
    "'pages': r['num_pages'],\n",
    "'author': parse_authors(r['authors']['author']),\n",
    "'shelves': parse_shelves(r['popular_shelves']['shelf']),\n",
    "'similar_books': similar_books(r),\n",
    "'goodreads_author_img': parse_authors_image(r['authors']['author']),\n",
    "# THINKME: If we store authors id, need to handle multiple authors case\n",
    "# 'goodreads_author_id': r['authors']['author']['id'],\n",
    "'goodreads_url': r['url'],\n",
    "'goodreads_book_img': get_image_url(r['image_url']),\n",
    "'goodreads_rating': r['average_rating'],\n",
    "'not_found': False \n",
    "}"
   ]
  },
  {
   "cell_type": "code",
   "execution_count": 89,
   "metadata": {},
   "outputs": [],
   "source": [
    "# As noted above, we can then create an instance of the Book class and add the dictionary to it\n",
    "\n",
    "book = BookTemplate()\n",
    "setAttributes (book, goodreads_data_dictionary)"
   ]
  },
  {
   "cell_type": "code",
   "execution_count": 84,
   "metadata": {},
   "outputs": [
    {
     "name": "stdout",
     "output_type": "stream",
     "text": [
      "Clive Cussler\n"
     ]
    }
   ],
   "source": [
    "# Now we can access the data by referring to the object\n",
    "\n",
    "print(book.author)"
   ]
  },
  {
   "cell_type": "code",
   "execution_count": 85,
   "metadata": {},
   "outputs": [
    {
     "name": "stdout",
     "output_type": "stream",
     "text": [
      "[{'name': 'owned', 'count': '4'}, {'name': 'audio wanted', 'count': '3'}, {'name': 'fiction', 'count': '3'}, {'name': 'cussler', 'count': '2'}, {'name': 'audio books owned', 'count': '1'}, {'name': 'wanted', 'count': '1'}, {'name': 'have', 'count': '1'}, {'name': '01 books', 'count': '1'}, {'name': 'server', 'count': '1'}, {'name': 'no thanks', 'count': '1'}, {'name': 'misc', 'count': '1'}, {'name': 'clive cussler', 'count': '1'}, {'name': 'yr 11', 'count': '1'}, {'name': 'cussler pitt', 'count': '1'}, {'name': 'crime', 'count': '1'}, {'name': 'adventure', 'count': '1'}, {'name': 'ebook', 'count': '1'}, {'name': '21 28', 'count': '1'}, {'name': '11 25 2007', 'count': '1'}]\n"
     ]
    }
   ],
   "source": [
    "print (book.shelves)"
   ]
  },
  {
   "cell_type": "code",
   "execution_count": 86,
   "metadata": {},
   "outputs": [
    {
     "name": "stdout",
     "output_type": "stream",
     "text": [
      "[{'title': 'The Michael Crichton Collection: Airframe / The Lost World / Timeline', 'isbn': '0739340336', 'goodreads_rating': '4.40', 'goodreads_book_img': 'https://i.gr-assets.com/images/S/compressed.photo.goodreads.com/books/1320433409l/7674._SX98_.jpg', 'pages': '0', 'goodreads_url': 'https://www.goodreads.com/book/show/7674.The_Michael_Crichton_Collection', 'year': '2006', 'author': 'Michael Crichton'}, {'title': 'Tom Clancy: The Sum Of All Fears, Debt Of Honor, Patriot Games', 'isbn': '0425156516', 'goodreads_rating': '4.40', 'goodreads_book_img': None, 'pages': None, 'goodreads_url': 'https://www.goodreads.com/book/show/2794671-tom-clancy', 'year': None, 'author': 'Tom Clancy'}, {'title': 'The Menacers (Matt Helm, #11)', 'isbn': '0402271726', 'goodreads_rating': '4.40', 'goodreads_book_img': 'https://i.gr-assets.com/images/S/compressed.photo.goodreads.com/books/1298775311l/2737203._SY160_.jpg', 'pages': '192', 'goodreads_url': 'https://www.goodreads.com/book/show/2737203-the-menacers', 'year': '1968', 'author': 'Donald Hamilton'}, {'title': 'Fahrenheit 451; The Illustrated Man; Dandelion Wine; The Golden Apples of the Sun; The Martian Chronicles', 'isbn': '1852560231', 'goodreads_rating': '4.40', 'goodreads_book_img': 'https://i.gr-assets.com/images/S/compressed.photo.goodreads.com/books/1346284243l/198738._SX98_.jpg', 'pages': None, 'goodreads_url': 'https://www.goodreads.com/book/show/198738.Fahrenheit_451_The_Illustrated_Man_Dandelion_Wine_The_Golden_Apples_of_the_Sun_The_Martian_Chronicles', 'year': '1987', 'author': 'Ray Bradbury'}, {'title': \"Dead Man's Handle (Modesty Blaise #12)\", 'isbn': '0285637274', 'goodreads_rating': '4.40', 'goodreads_book_img': 'https://i.gr-assets.com/images/S/compressed.photo.goodreads.com/books/1328872205l/463145._SX98_.jpg', 'pages': '224', 'goodreads_url': 'https://www.goodreads.com/book/show/463145.Dead_Man_s_Handle', 'year': '2005', 'author': \"Peter O'Donnell\"}, {'title': 'The Land God Gave to Cain', 'isbn': '0881841447', 'goodreads_rating': '4.40', 'goodreads_book_img': 'https://i.gr-assets.com/images/S/compressed.photo.goodreads.com/books/1499285301l/662931._SX98_.jpg', 'pages': '307', 'goodreads_url': 'https://www.goodreads.com/book/show/662931.The_Land_God_Gave_to_Cain', 'year': '1985', 'author': 'Hammond Innes'}, {'title': 'Kahawa', 'isbn': '0446403431', 'goodreads_rating': '4.40', 'goodreads_book_img': 'https://i.gr-assets.com/images/S/compressed.photo.goodreads.com/books/1344270219l/829770._SX98_.jpg', 'pages': '496', 'goodreads_url': 'https://www.goodreads.com/book/show/829770.Kahawa', 'year': '1996', 'author': 'Donald E. Westlake'}, {'title': 'The Violent Enemy', 'isbn': '0330307207', 'goodreads_rating': '4.40', 'goodreads_book_img': 'https://i.gr-assets.com/images/S/compressed.photo.goodreads.com/books/1330144277l/7481639._SY160_.jpg', 'pages': '148', 'goodreads_url': 'https://www.goodreads.com/book/show/7481639-the-violent-enemy', 'year': '1969', 'author': 'Hugh Marlowe'}, {'title': 'The Dark Side of the Island', 'isbn': '0449138267', 'goodreads_rating': '4.40', 'goodreads_book_img': 'https://i.gr-assets.com/images/S/compressed.photo.goodreads.com/books/1357680441l/2079458._SY160_.jpg', 'pages': '159', 'goodreads_url': 'https://www.goodreads.com/book/show/2079458.The_Dark_Side_of_the_Island', 'year': '1980', 'author': 'Jack Higgins'}, {'title': 'An Expensive Place to Die', 'isbn': '0425073734', 'goodreads_rating': '4.40', 'goodreads_book_img': 'https://i.gr-assets.com/images/S/compressed.photo.goodreads.com/books/1346898582l/1607799._SX98_.jpg', 'pages': '252', 'goodreads_url': 'https://www.goodreads.com/book/show/1607799.An_Expensive_Place_to_Die', 'year': '1967', 'author': 'Len Deighton'}, {'title': 'Havoc (Philip Mercer, #7)', 'isbn': '0525948821', 'goodreads_rating': '4.40', 'goodreads_book_img': None, 'pages': None, 'goodreads_url': 'https://www.goodreads.com/book/show/28208.Havoc', 'year': '2006', 'author': 'Jack Du Brul'}, {'title': 'Toxin / Chromosome 6', 'isbn': '0330432648', 'goodreads_rating': '4.40', 'goodreads_book_img': 'https://i.gr-assets.com/images/S/compressed.photo.goodreads.com/books/1277503651l/1188784._SX98_.jpg', 'pages': None, 'goodreads_url': 'https://www.goodreads.com/book/show/1188784.Toxin_Chromosome_6', 'year': None, 'author': 'Robin Cook'}]\n"
     ]
    }
   ],
   "source": [
    "print(book.similar_books)"
   ]
  },
  {
   "cell_type": "markdown",
   "metadata": {},
   "source": [
    "So how do you get this book object to the web page?  You pass the object as a variable in routes.py.  Something like this:"
   ]
  },
  {
   "cell_type": "markdown",
   "metadata": {},
   "source": [
    "    var data = [\n",
    "        {% if book.gbrating is defined and book.gbrating is not none %}\n",
    "            {name: \"average\", value: {{ book.avgrating }}, color: \"#25283d\"},\n",
    "            {name: \"google\", value: {{ book.gbrating }}, color: \"#f17105\"},\n",
    "        {% endif %}\n",
    "        {name: \"goodreads\", value: {{ book.goodreads_rating }}, color: \"#e6c229\"}\n",
    "    ];"
   ]
  },
  {
   "cell_type": "markdown",
   "metadata": {},
   "source": [
    "You can also get author data using similar methods"
   ]
  },
  {
   "cell_type": "code",
   "execution_count": 91,
   "metadata": {},
   "outputs": [],
   "source": [
    "def request_author_id(title, author):\n",
    "    response = request_book(author, title)\n",
    "    if response.status_code == 200:\n",
    "        return parse_author_id(response, author)\n",
    "    else:\n",
    "        return None\n",
    "\n",
    "def build_url_author(id):\n",
    "    return 'https://www.goodreads.com/author/show/%s?format=xml&key=%s' % (id, goodreads_key)\n",
    "    \n",
    "\n",
    "def goodreads_get_author_data(name, a_book):\n",
    "    author_id = request_author_id(a_book, name)\n",
    "    if author_id is None:\n",
    "        return {'not_found': True}\n",
    "\n",
    "    url = build_url_author(author_id)\n",
    "    print (url)\n",
    "    response = request(url)\n",
    "    if response.status_code == 200:\n",
    "        return parse_response_author(response)\n",
    "    else:\n",
    "        return {'not_found': True}\n",
    "    \n",
    "    \n",
    "def parse_response_author(response):\n",
    "    author = xmltodict.parse(response.text)['GoodreadsResponse']['author']\n",
    "\n",
    "    # Fixing birthdate format\n",
    "    birthdate = None if author['born_at'] is None else (datetime.strptime(author['born_at'], '%Y/%m/%d')).strftime(\"%B %-d, %Y\")\n",
    "\n",
    "    return {\n",
    "        'name': author['name'],\n",
    "        'about': author['about'],\n",
    "        'influences': parse_influences_html(author['influences']),\n",
    "        'hometown': author['hometown'],\n",
    "        'born_date': birthdate,\n",
    "        'goodreads_link' : author['link'],\n",
    "        'goodreads_img_url': get_image_url(author['large_image_url']),\n",
    "        'books_dict' : parse_authors_books_dict(author['books']['book']),\n",
    "        'books' : parse_authors_books(author['books']['book'])\n",
    "    }\n",
    "\n",
    "def parse_authors_books_dict(books_dict):\n",
    "    b = []\n",
    "    for book in books_dict:\n",
    "\n",
    "        # We'd ideally get the original publication date of the book.  Unfortuntely this only returns\n",
    "        # the most recent edition. To get the original date, we'd need to make a separate call to goodreads by isbn and get the original_publication_date\n",
    "\n",
    "        t = encode_white_spaces(book['title_without_series'])\n",
    "\n",
    "        if book['published']:\n",
    "            b.append({\n",
    "                'content': '<a href=\"' + t + '\">' + book['title'] + '</a>',\n",
    "                'start': book['published'],\n",
    "            })\n",
    "\n",
    "    return b\n",
    "\n",
    "\n",
    "def parse_authors_books(books):\n",
    "    b = []\n",
    "    for book in books:\n",
    "        b.append({\n",
    "            'isbn' : book['isbn'],\n",
    "            'title' : book['title'],\n",
    "            'goodreads_image_url' : get_image_url(book['image_url']),\n",
    "            'goodreads_link' : book['link'],\n",
    "            'pages' : book['num_pages'],\n",
    "            'publisher' : book['publisher'],\n",
    "            'publication_day' : book['publication_day'],\n",
    "            'publication_year' : book['publication_year'],\n",
    "            'publication_month' : book['publication_month'],\n",
    "            'goodreads_rating' : book['average_rating'],\n",
    "            'goodreads_raters' : book['ratings_count'],\n",
    "            'description' : book['description'],\n",
    "            'authors' : book['authors'] # TODO: Get authors in a nice format - mostly to know if there are other authors\n",
    "        })\n",
    "    return b\n",
    "\n",
    "\n",
    "def parse_influences_html(influences_html):\n",
    "    if (influences_html is None):\n",
    "        return\n",
    "    influences = []\n",
    "    for value in influences_html.split('</a>'):\n",
    "        v = value.split('>')\n",
    "        if len(v) > 1:\n",
    "            influences.append(v[1])\n",
    "    return influences\n",
    "\n",
    "\n",
    "def parse_authors_image(authors):\n",
    "    if type(authors) is list:\n",
    "        return parse_authors_image_from_list(authors)\n",
    "    return get_image_url(authors['image_url']['#text'])\n",
    "\n",
    "def parse_authors_image_from_list(authors):\n",
    "    urls = []\n",
    "    for author in authors:\n",
    "        urls.append(get_image_url(author['image_url']['#text']))\n",
    "    return urls"
   ]
  },
  {
   "cell_type": "code",
   "execution_count": 92,
   "metadata": {},
   "outputs": [],
   "source": []
  },
  {
   "cell_type": "code",
   "execution_count": null,
   "metadata": {},
   "outputs": [],
   "source": []
  }
 ],
 "metadata": {
  "kernelspec": {
   "display_name": "Python 3",
   "language": "python",
   "name": "python3"
  },
  "language_info": {
   "codemirror_mode": {
    "name": "ipython",
    "version": 3
   },
   "file_extension": ".py",
   "mimetype": "text/x-python",
   "name": "python",
   "nbconvert_exporter": "python",
   "pygments_lexer": "ipython3",
   "version": "3.6.8"
  }
 },
 "nbformat": 4,
 "nbformat_minor": 2
}
